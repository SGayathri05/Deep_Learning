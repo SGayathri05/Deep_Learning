{
  "metadata": {
    "kernelspec": {
      "language": "python",
      "display_name": "Python 3",
      "name": "python3"
    },
    "language_info": {
      "name": "python",
      "version": "3.7.12",
      "mimetype": "text/x-python",
      "codemirror_mode": {
        "name": "ipython",
        "version": 3
      },
      "pygments_lexer": "ipython3",
      "nbconvert_exporter": "python",
      "file_extension": ".py"
    },
    "colab": {
      "provenance": []
    }
  },
  "nbformat_minor": 0,
  "nbformat": 4,
  "cells": [
    {
      "cell_type": "code",
      "source": [
        "# This Python 3 environment comes with many helpful analytics libraries installed\n",
        "# It is defined by the kaggle/python Docker image: https://github.com/kaggle/docker-python\n",
        "# For example, here's several helpful packages to load\n",
        "\n",
        "import numpy as np # linear algebra\n",
        "import pandas as pd # data processing, CSV file I/O (e.g. pd.read_csv)\n",
        "\n",
        "# Input data files are available in the read-only \"../input/\" directory\n",
        "# For example, running this (by clicking run or pressing Shift+Enter) will list all files under the input directory\n",
        "\n",
        "import os\n",
        "for dirname, _, filenames in os.walk('/kaggle/input'):\n",
        "    for filename in filenames:\n",
        "        print(os.path.join(dirname, filename))\n",
        "\n",
        "# You can write up to 20GB to the current directory (/kaggle/working/) that gets preserved as output when you create a version using \"Save & Run All\"\n",
        "# You can also write temporary files to /kaggle/temp/, but they won't be saved outside of the current session"
      ],
      "metadata": {
        "_uuid": "8f2839f25d086af736a60e9eeb907d3b93b6e0e5",
        "_cell_guid": "b1076dfc-b9ad-4769-8c92-a6c4dae69d19",
        "execution": {
          "iopub.status.busy": "2022-04-08T10:12:24.594226Z",
          "iopub.execute_input": "2022-04-08T10:12:24.594519Z",
          "iopub.status.idle": "2022-04-08T10:12:27.092609Z",
          "shell.execute_reply.started": "2022-04-08T10:12:24.594487Z",
          "shell.execute_reply": "2022-04-08T10:12:27.091942Z"
        },
        "trusted": true,
        "id": "Vzc9iPNIB1gP"
      },
      "execution_count": null,
      "outputs": []
    },
    {
      "cell_type": "code",
      "source": [
        "from google.colab import drive\n",
        "drive.mount('/content/drive')"
      ],
      "metadata": {
        "colab": {
          "base_uri": "https://localhost:8080/"
        },
        "id": "usAxRd80DCnB",
        "outputId": "bb84359f-affb-461c-81bd-232093e8a307"
      },
      "execution_count": null,
      "outputs": [
        {
          "output_type": "stream",
          "name": "stdout",
          "text": [
            "Mounted at /content/drive\n"
          ]
        }
      ]
    },
    {
      "cell_type": "code",
      "source": [
        "#https://www.kaggle.com/datasets/muhammadwaqaskiyani/catvsdog"
      ],
      "metadata": {
        "execution": {
          "iopub.status.busy": "2022-04-08T10:12:27.095787Z",
          "iopub.execute_input": "2022-04-08T10:12:27.095984Z",
          "iopub.status.idle": "2022-04-08T10:12:27.101297Z",
          "shell.execute_reply.started": "2022-04-08T10:12:27.095959Z",
          "shell.execute_reply": "2022-04-08T10:12:27.100525Z"
        },
        "trusted": true,
        "id": "2qdUU-naB1gT"
      },
      "execution_count": null,
      "outputs": []
    },
    {
      "cell_type": "code",
      "source": [
        "import pandas as pd\n",
        "import numpy as np\n",
        "import matplotlib.pyplot as plt\n",
        "from keras.models import Sequential\n",
        "from keras.layers import Convolution2D\n",
        "from keras.layers import MaxPooling2D\n",
        "from keras.layers import Dense\n",
        "from keras.layers import Flatten"
      ],
      "metadata": {
        "execution": {
          "iopub.status.busy": "2022-04-09T02:43:53.916445Z",
          "iopub.execute_input": "2022-04-09T02:43:53.916784Z",
          "iopub.status.idle": "2022-04-09T02:43:53.922920Z",
          "shell.execute_reply.started": "2022-04-09T02:43:53.916734Z",
          "shell.execute_reply": "2022-04-09T02:43:53.922238Z"
        },
        "trusted": true,
        "id": "VElbs_UEB1gT"
      },
      "execution_count": null,
      "outputs": []
    },
    {
      "cell_type": "code",
      "source": [
        "#initializing the cnn\n",
        "classifier=Sequential()"
      ],
      "metadata": {
        "execution": {
          "iopub.status.busy": "2022-04-09T02:43:54.179781Z",
          "iopub.execute_input": "2022-04-09T02:43:54.180009Z",
          "iopub.status.idle": "2022-04-09T02:43:54.189799Z",
          "shell.execute_reply.started": "2022-04-09T02:43:54.179981Z",
          "shell.execute_reply": "2022-04-09T02:43:54.189215Z"
        },
        "trusted": true,
        "id": "46zlUSf6B1gU"
      },
      "execution_count": null,
      "outputs": []
    },
    {
      "cell_type": "code",
      "source": [
        "#part2-fitting the cnn to the images\n",
        "from keras.preprocessing.image import ImageDataGenerator\n",
        "train_datagen = ImageDataGenerator(rescale = 1./255,\n",
        "                                   shear_range = 0.2,\n",
        "                                   zoom_range = 0.2,\n",
        "                                   horizontal_flip = True)"
      ],
      "metadata": {
        "execution": {
          "iopub.status.busy": "2022-04-09T02:43:54.967013Z",
          "iopub.execute_input": "2022-04-09T02:43:54.967275Z",
          "iopub.status.idle": "2022-04-09T02:43:54.973246Z",
          "shell.execute_reply.started": "2022-04-09T02:43:54.967239Z",
          "shell.execute_reply": "2022-04-09T02:43:54.971120Z"
        },
        "trusted": true,
        "id": "8rrJUXfrB1gU"
      },
      "execution_count": null,
      "outputs": []
    },
    {
      "cell_type": "code",
      "source": [
        "# Generating images for the Test set\n",
        "test_datagen = ImageDataGenerator(rescale = 1./255)\n",
        "# Creating training set\n",
        "training_set = train_datagen.flow_from_directory('/content/drive/MyDrive/dataset/training_set',\n",
        "                                                 target_size = (64, 64),\n",
        "                                                 batch_size = 32,\n",
        "                                                 class_mode = 'binary')\n",
        "# Creating the Test set\n",
        "test_set = test_datagen.flow_from_directory('/content/drive/MyDrive/dataset/test_set',\n",
        "                                            target_size = (64, 64),\n",
        "                                            batch_size = 32,\n",
        "                                            class_mode = 'binary')"
      ],
      "metadata": {
        "execution": {
          "iopub.status.busy": "2022-04-09T02:43:56.349030Z",
          "iopub.execute_input": "2022-04-09T02:43:56.349577Z",
          "iopub.status.idle": "2022-04-09T02:43:57.091839Z",
          "shell.execute_reply.started": "2022-04-09T02:43:56.349538Z",
          "shell.execute_reply": "2022-04-09T02:43:57.091211Z"
        },
        "trusted": true,
        "id": "ob2Wm6K2B1gV",
        "colab": {
          "base_uri": "https://localhost:8080/"
        },
        "outputId": "b3ad97e4-ee80-4d98-8ecd-0ca6072e4327"
      },
      "execution_count": null,
      "outputs": [
        {
          "output_type": "stream",
          "name": "stdout",
          "text": [
            "Found 8020 images belonging to 2 classes.\n",
            "Found 2000 images belonging to 2 classes.\n"
          ]
        }
      ]
    },
    {
      "cell_type": "code",
      "source": [
        "#step1-convolution layer 1\n",
        "classifier.add(Convolution2D(32,3,3,input_shape=(64,64,3),activation='relu'))\n",
        "#step2-maxpooling layer 1\n",
        "classifier.add(MaxPooling2D(pool_size=(2,2)))\n",
        "#step1-convolution layer 2\n",
        "classifier.add(Convolution2D(32,3,3,input_shape=(64,64,3),activation='relu'))\n",
        "#step2-maxpooling layer 2\n",
        "classifier.add(MaxPooling2D(pool_size=(2,2)))\n",
        "#step3-flattening\n",
        "classifier.add(Flatten())\n",
        "#step4-fullconnection\n",
        "classifier.add(Dense(units = 128, activation='relu'))\n",
        "classifier.add((Dense(units=128,activation='relu')))\n",
        "classifier.add(Dense(units = 1, activation='sigmoid'))"
      ],
      "metadata": {
        "execution": {
          "iopub.status.busy": "2022-04-09T02:43:58.899903Z",
          "iopub.execute_input": "2022-04-09T02:43:58.900165Z",
          "iopub.status.idle": "2022-04-09T02:43:58.952476Z",
          "shell.execute_reply.started": "2022-04-09T02:43:58.900134Z",
          "shell.execute_reply": "2022-04-09T02:43:58.951828Z"
        },
        "trusted": true,
        "id": "CopQDrALB1gV"
      },
      "execution_count": null,
      "outputs": []
    },
    {
      "cell_type": "code",
      "source": [
        "from keras import metrics\n",
        "classifier.compile(loss = 'binary_crossentropy',\n",
        "   optimizer = 'adam', metrics = [metrics.binary_accuracy])\n",
        "classifier.fit_generator(training_set, steps_per_epoch=100,\n",
        "                                      validation_data=test_set,\n",
        "                                     epochs=15, verbose=1)\n",
        "#classifier.fit_generator(training_set,samples_per_epoch=8000,nb_epoch=25,validation_data=test_set,nb_val_samples=2000)"
      ],
      "metadata": {
        "execution": {
          "iopub.status.busy": "2022-04-09T02:44:00.918067Z",
          "iopub.execute_input": "2022-04-09T02:44:00.918771Z",
          "iopub.status.idle": "2022-04-09T02:49:02.578610Z",
          "shell.execute_reply.started": "2022-04-09T02:44:00.918733Z",
          "shell.execute_reply": "2022-04-09T02:49:02.577884Z"
        },
        "trusted": true,
        "id": "vs62NisCB1gW",
        "colab": {
          "base_uri": "https://localhost:8080/"
        },
        "outputId": "4a1a3435-352a-4502-c2f8-1e875ad4ca2e"
      },
      "execution_count": null,
      "outputs": [
        {
          "output_type": "stream",
          "name": "stderr",
          "text": [
            "/usr/local/lib/python3.7/dist-packages/ipykernel_launcher.py:6: UserWarning: `Model.fit_generator` is deprecated and will be removed in a future version. Please use `Model.fit`, which supports generators.\n",
            "  \n"
          ]
        },
        {
          "output_type": "stream",
          "name": "stdout",
          "text": [
            "Epoch 1/15\n",
            "100/100 [==============================] - 810s 8s/step - loss: 0.6952 - binary_accuracy: 0.4934 - val_loss: 0.6932 - val_binary_accuracy: 0.5200\n",
            "Epoch 2/15\n",
            "100/100 [==============================] - 219s 2s/step - loss: 0.6933 - binary_accuracy: 0.5069 - val_loss: 0.6925 - val_binary_accuracy: 0.5475\n",
            "Epoch 3/15\n",
            "100/100 [==============================] - 143s 1s/step - loss: 0.6912 - binary_accuracy: 0.5166 - val_loss: 0.6833 - val_binary_accuracy: 0.5465\n",
            "Epoch 4/15\n",
            "100/100 [==============================] - 103s 1s/step - loss: 0.6820 - binary_accuracy: 0.5659 - val_loss: 0.6700 - val_binary_accuracy: 0.5860\n",
            "Epoch 5/15\n",
            "100/100 [==============================] - 74s 745ms/step - loss: 0.6775 - binary_accuracy: 0.5731 - val_loss: 0.6682 - val_binary_accuracy: 0.5940\n",
            "Epoch 6/15\n",
            "100/100 [==============================] - 59s 594ms/step - loss: 0.6732 - binary_accuracy: 0.5822 - val_loss: 0.6615 - val_binary_accuracy: 0.6015\n",
            "Epoch 7/15\n",
            "100/100 [==============================] - 47s 467ms/step - loss: 0.6700 - binary_accuracy: 0.5906 - val_loss: 0.6630 - val_binary_accuracy: 0.6025\n",
            "Epoch 8/15\n",
            "100/100 [==============================] - 41s 408ms/step - loss: 0.6622 - binary_accuracy: 0.6009 - val_loss: 0.6861 - val_binary_accuracy: 0.5940\n",
            "Epoch 9/15\n",
            "100/100 [==============================] - 36s 361ms/step - loss: 0.6623 - binary_accuracy: 0.5959 - val_loss: 0.6509 - val_binary_accuracy: 0.6130\n",
            "Epoch 10/15\n",
            "100/100 [==============================] - 35s 353ms/step - loss: 0.6642 - binary_accuracy: 0.5925 - val_loss: 0.6598 - val_binary_accuracy: 0.6265\n",
            "Epoch 11/15\n",
            "100/100 [==============================] - 33s 326ms/step - loss: 0.6513 - binary_accuracy: 0.6194 - val_loss: 0.6478 - val_binary_accuracy: 0.6295\n",
            "Epoch 12/15\n",
            "100/100 [==============================] - 33s 327ms/step - loss: 0.6519 - binary_accuracy: 0.6164 - val_loss: 0.6527 - val_binary_accuracy: 0.6230\n",
            "Epoch 13/15\n",
            "100/100 [==============================] - 32s 316ms/step - loss: 0.6382 - binary_accuracy: 0.6267 - val_loss: 0.6777 - val_binary_accuracy: 0.5960\n",
            "Epoch 14/15\n",
            "100/100 [==============================] - 32s 321ms/step - loss: 0.6489 - binary_accuracy: 0.6178 - val_loss: 0.6356 - val_binary_accuracy: 0.6455\n",
            "Epoch 15/15\n",
            "100/100 [==============================] - 31s 316ms/step - loss: 0.6371 - binary_accuracy: 0.6309 - val_loss: 0.6409 - val_binary_accuracy: 0.6370\n"
          ]
        },
        {
          "output_type": "execute_result",
          "data": {
            "text/plain": [
              "<keras.callbacks.History at 0x7f86c059f3d0>"
            ]
          },
          "metadata": {},
          "execution_count": 11
        }
      ]
    },
    {
      "cell_type": "code",
      "source": [
        "#to predict new images\n",
        "def predict_image(imagepath, classifier):\n",
        "    predict = image.load_img(imagepath, target_size = (64, 64))\n",
        "    predict_modified = image.img_to_array(predict)\n",
        "    predict_modified = predict_modified / 255\n",
        "    predict_modified = np.expand_dims(predict_modified, axis = 0)\n",
        "    result = classifier.predict(predict_modified)\n",
        "    if result[0][0] >= 0.5:\n",
        "        prediction = 'dog'\n",
        "        probability = result[0][0]\n",
        "        #print(\"Prediction = \" + prediction)\n",
        "        print (\"probability = \" + str(probability))\n",
        "    else:\n",
        "        prediction = 'cat'\n",
        "        probability = 1 - result[0][0]\n",
        "        print (\"probability = \" + str(probability))\n",
        "    print(\"Prediction = \" + prediction)"
      ],
      "metadata": {
        "execution": {
          "iopub.status.busy": "2022-04-09T02:49:02.580427Z",
          "iopub.execute_input": "2022-04-09T02:49:02.580759Z",
          "iopub.status.idle": "2022-04-09T02:49:02.588504Z",
          "shell.execute_reply.started": "2022-04-09T02:49:02.580702Z",
          "shell.execute_reply": "2022-04-09T02:49:02.587381Z"
        },
        "trusted": true,
        "id": "GSXZEZLhB1gX"
      },
      "execution_count": null,
      "outputs": []
    },
    {
      "cell_type": "code",
      "source": [
        "from keras.preprocessing import image\n",
        "predict_image('/content/drive/MyDrive/dataset/single_prediction/cat_or_dog_1.jpg',classifier)"
      ],
      "metadata": {
        "execution": {
          "iopub.status.busy": "2022-04-09T02:49:02.589890Z",
          "iopub.execute_input": "2022-04-09T02:49:02.590103Z",
          "iopub.status.idle": "2022-04-09T02:49:02.707563Z",
          "shell.execute_reply.started": "2022-04-09T02:49:02.590076Z",
          "shell.execute_reply": "2022-04-09T02:49:02.706838Z"
        },
        "trusted": true,
        "id": "0lqH8Tq7B1gY",
        "colab": {
          "base_uri": "https://localhost:8080/"
        },
        "outputId": "c2d54766-42a3-4342-d73d-d9b07f783dce"
      },
      "execution_count": null,
      "outputs": [
        {
          "output_type": "stream",
          "name": "stdout",
          "text": [
            "probability = 0.8455759\n",
            "Prediction = dog\n"
          ]
        }
      ]
    },
    {
      "cell_type": "code",
      "source": [
        "predict_image('/content/drive/MyDrive/dataset/single_prediction/cat_or_dog_2.jpg',classifier)"
      ],
      "metadata": {
        "execution": {
          "iopub.status.busy": "2022-04-09T02:49:02.709097Z",
          "iopub.execute_input": "2022-04-09T02:49:02.709352Z",
          "iopub.status.idle": "2022-04-09T02:49:02.798683Z",
          "shell.execute_reply.started": "2022-04-09T02:49:02.709317Z",
          "shell.execute_reply": "2022-04-09T02:49:02.797818Z"
        },
        "trusted": true,
        "id": "7xBaTKmdB1gY",
        "colab": {
          "base_uri": "https://localhost:8080/"
        },
        "outputId": "5cc40558-2792-47bb-9886-dfdc5518d6ed"
      },
      "execution_count": null,
      "outputs": [
        {
          "output_type": "stream",
          "name": "stdout",
          "text": [
            "probability = 0.6961743235588074\n",
            "Prediction = cat\n"
          ]
        }
      ]
    },
    {
      "cell_type": "code",
      "source": [],
      "metadata": {
        "id": "uLbP9_vvB1gY"
      },
      "execution_count": null,
      "outputs": []
    }
  ]
}