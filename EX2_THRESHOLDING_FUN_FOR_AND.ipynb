{
  "nbformat": 4,
  "nbformat_minor": 0,
  "metadata": {
    "colab": {
      "provenance": []
    },
    "kernelspec": {
      "name": "python3",
      "display_name": "Python 3"
    },
    "language_info": {
      "name": "python"
    }
  },
  "cells": [
    {
      "cell_type": "markdown",
      "source": [
        "# Thresholding Function Model code for AND Gate:"
      ],
      "metadata": {
        "id": "CM8yOVwIUSww"
      }
    },
    {
      "cell_type": "code",
      "source": [
        "# importing Python library\n",
        "import numpy as np\n",
        "# design Threshold function Model\n",
        "def ThresholdModel(x):\n",
        "    v = np.sum(x)\n",
        "    if v < 2:\n",
        "      return 0\n",
        "    else:\n",
        "      return 1\n",
        "# testing the Perceptron Model\n",
        "test1 = np.array([0, 1])\n",
        "test2 = np.array([1, 1])\n",
        "test3 = np.array([0, 0])\n",
        "test4 = np.array([1, 0])\n",
        "print(\"AND({}, {}) = {}\".format(0, 1, ThresholdModel(test1)))\n",
        "print(\"AND({}, {}) = {}\".format(1, 1, ThresholdModel(test2)))\n",
        "print(\"AND({}, {}) = {}\".format(0, 0, ThresholdModel(test3)))\n",
        "print(\"AND({}, {}) = {}\".format(1, 0, ThresholdModel(test4)))"
      ],
      "metadata": {
        "colab": {
          "base_uri": "https://localhost:8080/"
        },
        "id": "k9fDf62OUT4Y",
        "outputId": "18089d31-8e73-467a-b875-3f195971829d"
      },
      "execution_count": null,
      "outputs": [
        {
          "output_type": "stream",
          "name": "stdout",
          "text": [
            "AND(0, 1) = 0\n",
            "AND(1, 1) = 1\n",
            "AND(0, 0) = 0\n",
            "AND(1, 0) = 0\n"
          ]
        }
      ]
    }
  ]
}